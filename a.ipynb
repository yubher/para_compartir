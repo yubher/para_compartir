import numpy as np

B = np.array([[2 * (i == j) + (-1) * (abs(i - j) == 1) for j in range(5)] for i in range(5)])
print(B)
